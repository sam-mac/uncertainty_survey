{
  "nbformat": 4,
  "nbformat_minor": 0,
  "metadata": {
    "colab": {
      "name": "0.0_trial_pl_mcd_cifar10.ipynb",
      "provenance": [],
      "mount_file_id": "18KWpaYR3_mfCA-tWe12rvbZMugxsoqHb",
      "authorship_tag": "ABX9TyMu9IbahDUyp40KForJ7jnS",
      "include_colab_link": true
    },
    "kernelspec": {
      "name": "python3",
      "display_name": "Python 3"
    },
    "language_info": {
      "name": "python"
    }
  },
  "cells": [
    {
      "cell_type": "markdown",
      "metadata": {
        "id": "view-in-github",
        "colab_type": "text"
      },
      "source": [
        "<a href=\"https://colab.research.google.com/github/sam-mac/uncertainty_survey/blob/main/notebooks/0.0-colab-trial_pl_cifar10.ipynb\" target=\"_parent\"><img src=\"https://colab.research.google.com/assets/colab-badge.svg\" alt=\"Open In Colab\"/></a>"
      ]
    },
    {
      "cell_type": "markdown",
      "source": [
        "# Trial \n",
        "\n",
        "1.   link & save to github\n",
        "2.   import lightning\n",
        "3.   Get CIFAR data\n",
        "4.   Train any model\n",
        "5.   Get resul\n",
        "6.   Extend to MCD"
      ],
      "metadata": {
        "id": "f9BiHbjjhJbg"
      }
    },
    {
      "cell_type": "markdown",
      "source": [
        "## 1. link & save to github"
      ],
      "metadata": {
        "id": "eqLOu-FLh2yc"
      }
    },
    {
      "cell_type": "code",
      "execution_count": 1,
      "metadata": {
        "colab": {
          "base_uri": "https://localhost:8080/"
        },
        "id": "Q4wL8thAgYU1",
        "outputId": "b96d9b7f-732f-4965-e32c-97333dac0538"
      },
      "outputs": [
        {
          "output_type": "stream",
          "name": "stdout",
          "text": [
            "\u001b[0m\u001b[01;34mdrive\u001b[0m/  \u001b[01;34msample_data\u001b[0m/\n"
          ]
        }
      ],
      "source": [
        "$"
      ]
    },
    {
      "cell_type": "code",
      "source": [
        ""
      ],
      "metadata": {
        "id": "csmuxkQTgzYK"
      },
      "execution_count": null,
      "outputs": []
    },
    {
      "cell_type": "code",
      "source": [
        ""
      ],
      "metadata": {
        "id": "mzNFhITnhxVB"
      },
      "execution_count": null,
      "outputs": []
    }
  ]
}