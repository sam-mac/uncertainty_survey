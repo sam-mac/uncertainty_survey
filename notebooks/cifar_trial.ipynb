{
  "nbformat": 4,
  "nbformat_minor": 0,
  "metadata": {
    "colab": {
      "name": "cifar_trial.ipynb",
      "provenance": [],
      "authorship_tag": "ABX9TyPhazXsuwD69Chpqztth4CV",
      "include_colab_link": true
    },
    "kernelspec": {
      "name": "python3",
      "display_name": "Python 3"
    },
    "language_info": {
      "name": "python"
    }
  },
  "cells": [
    {
      "cell_type": "markdown",
      "metadata": {
        "id": "view-in-github",
        "colab_type": "text"
      },
      "source": [
        "<a href=\"https://colab.research.google.com/github/sam-mac/uncertainty_survey/blob/hmc_baseline/notebooks/cifar_trial.ipynb\" target=\"_parent\"><img src=\"https://colab.research.google.com/assets/colab-badge.svg\" alt=\"Open In Colab\"/></a>"
      ]
    },
    {
      "cell_type": "code",
      "execution_count": null,
      "metadata": {
        "id": "jJTcXSSUbAT_"
      },
      "outputs": [],
      "source": [
        ""
      ]
    }
  ]
}